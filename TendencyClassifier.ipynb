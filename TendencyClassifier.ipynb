{
 "cells": [
  {
   "cell_type": "code",
   "execution_count": null,
   "metadata": {},
   "outputs": [],
   "source": [
    "import pandas as pd\n",
    "import matplotlib.pyplot as plt\n",
    "import numpy as np\n",
    "import scipy as sc\n",
    "\n",
    "from NNClassifier import Net, NNClassifier\n",
    "from util import MyUtil\n",
    "\n",
    "from sklearn.model_selection import train_test_split, ShuffleSplit,GridSearchCV\n",
    "from sklearn.ensemble import RandomForestClassifier, VotingClassifier, GradientBoostingClassifier\n",
    "from sklearn.metrics import roc_auc_score\n",
    "from sklearn.linear_model import LogisticRegression\n",
    "import warnings\n",
    "\n",
    "#https://github.com/scikit-learn/scikit-learn/issues/10449\n",
    "#https://stackoverflow.com/questions/49545947/sklearn-deprecationwarning-truth-value-of-an-array\n",
    "#remove when fix becomes available\n",
    "warnings.filterwarnings(action='ignore', category=DeprecationWarning)\n",
    "\n",
    "util = MyUtil()\n",
    "\n",
    "# for auto-reloading extenrnal modules\n",
    "# see http://stackoverflow.com/questions/1907993/autoreload-of-modules-in-ipython\n",
    "%load_ext autoreload\n",
    "%autoreload 2"
   ]
  },
  {
   "cell_type": "code",
   "execution_count": null,
   "metadata": {},
   "outputs": [],
   "source": [
    "data=pd.read_csv(filepath_or_buffer=\"data/final.csv\",delimiter=\";\",index_col=False).round(2)"
   ]
  },
  {
   "cell_type": "markdown",
   "metadata": {},
   "source": [
    "# Preprocessing"
   ]
  },
  {
   "cell_type": "code",
   "execution_count": null,
   "metadata": {},
   "outputs": [],
   "source": [
    "# impute missing past values with 0\n",
    "data.fillna({\"past_resultA\":0,\"past_resultB\":0},inplace=True)\n",
    "# drop id columns\n",
    "data.drop([\"gameid\",\"teamidA\",\"teamidB\"],axis=1,inplace=True)"
   ]
  },
  {
   "cell_type": "code",
   "execution_count": null,
   "metadata": {},
   "outputs": [],
   "source": [
    "# Encode gametype\n",
    "rounds = {\n",
    "    \"Finale\": 1,\n",
    "    \"Spiel um Platz Drei\": 2,\n",
    "    \"Halbfinale\": 3,\n",
    "    \"Viertelfinale\": 4,\n",
    "    \"Achtelfinale\": 5,\n",
    "    \"Gruppenphase\": 6\n",
    "}\n",
    "def map_to_round(x):\n",
    "    if x.startswith(\"Gruppe\"):\n",
    "        return rounds[\"Gruppenphase\"]\n",
    "    else:\n",
    "        return rounds[x]\n",
    "data[\"gametype\"]=data[\"gametype\"].apply(map_to_round)"
   ]
  },
  {
   "cell_type": "code",
   "execution_count": null,
   "metadata": {},
   "outputs": [],
   "source": [
    "data.dtypes"
   ]
  },
  {
   "cell_type": "code",
   "execution_count": null,
   "metadata": {},
   "outputs": [],
   "source": [
    "#combine features\n",
    "data[\"mvA\"]=data[\"teamA_off_val\"]+data[\"teamA_def_val\"]\n",
    "data[\"mvB\"]=data[\"teamB_off_val\"]+data[\"teamB_def_val\"]\n",
    "data[\"mvAminB\"]=data[\"mvA\"]/data[\"mvB\"]\n",
    "data[\"ageAminB\"]=data[\"teamA_age\"]-data[\"teamB_age\"]\n",
    "data[\"fragAminB\"]=data[\"teamA_frag\"]/data[\"teamB_frag\"]"
   ]
  },
  {
   "cell_type": "code",
   "execution_count": null,
   "metadata": {},
   "outputs": [],
   "source": [
    "# knockout stage\n",
    "data_pen=data.drop(data[data.addinfo != 'n.E.'].index,axis=0)\n",
    "\n",
    "# knockout stage\n",
    "data_ko=data.drop(data[data.gametype == 6].index,axis=0)\n",
    "data_ko_nopen=data_ko.drop(data_ko[data_ko.addinfo == 'n.E.'].index,axis=0) # drop pens\n",
    "\n",
    "# group stage\n",
    "data_group=data.drop(data[data.gametype != 6].index,axis=0)\n",
    "\n",
    "#exclude games decided by penalties\n",
    "data_nopen=data.drop(data[data.addinfo == 'n.E.'].index,axis=0)"
   ]
  },
  {
   "cell_type": "markdown",
   "metadata": {},
   "source": [
    "# Modelling\n",
    "A single negative binomial regression is not powerful enough to predict the correct result. Evaluation of different metrics shows that the optimal hyperparameter for the negative binomial regression is often conflicting, depending on which metric is to be optimized. This is because information on the game outcome is needed. TODO\n",
    "\n",
    "## Classifier\n",
    "Our first goal is to create a classifier that can correctly predict the tendency of a game. The three categories are win/draw/loss. We will test the classifer on four subsets:\n",
    "* the full game set\n",
    "* the knockout stage without penalty shootouts\n",
    "* all games excluding games with penalty shootouts\n",
    "* the group stage\n",
    "* penalty shootouts"
   ]
  },
  {
   "cell_type": "code",
   "execution_count": null,
   "metadata": {},
   "outputs": [],
   "source": [
    "def scale(data_train, data_test):\n",
    "    meanMv = data_train[\"mvAminB\"].mean()\n",
    "    stdMv = data_train[\"mvAminB\"].std()\n",
    "    meanAge = data_train[\"ageAminB\"].mean()\n",
    "    stdAge = data_train[\"ageAminB\"].std()\n",
    "    meanFrag = data_train[\"fragAminB\"].mean()\n",
    "    stdFrag = data_train[\"fragAminB\"].std()\n",
    "    data_train[\"mvAminB\"]=(data_train[\"mvAminB\"]-meanMv)/stdMv\n",
    "    data_train[\"ageAminB\"]=(data_train[\"ageAminB\"]-meanAge)/stdAge\n",
    "    data_train[\"fragAminB\"]=(data_train[\"fragAminB\"]-meanFrag)/stdFrag\n",
    "    data_test[\"mvAminB\"]=(data_test[\"mvAminB\"]-meanMv)/stdMv\n",
    "    data_test[\"ageAminB\"]=(data_test[\"ageAminB\"]-meanAge)/stdAge\n",
    "    data_test[\"fragAminB\"]=(data_test[\"fragAminB\"]-meanFrag)/stdFrag\n"
   ]
  },
  {
   "cell_type": "code",
   "execution_count": null,
   "metadata": {},
   "outputs": [],
   "source": [
    "# split into train and test set\n",
    "# training set will be used with cross validation\n",
    "col2=[\"gametype\",\"mvAminB\",\"ageAminB\",\"fragAminB\",\"past_resultA\",\"past_resultB\"]\n",
    "target=[\"resultA\",\"resultB\"]\n",
    "\n",
    "data_train, data_test = train_test_split(data.copy(),test_size=0.2)\n",
    "# scale\n",
    "scale(data_train, data_test)\n",
    "\n",
    "X_train = data_train.drop(target,axis=1)[col2]\n",
    "y_train = data_train[target]\n",
    "X_test = data_test.drop(target,axis=1)[col2]\n",
    "y_test = data_test[target]\n",
    "print(\"Shape of X_test\",X_test.shape)\n",
    "print(\"Shape of y_test\",y_test.shape)\n",
    "print(\"Shape of X_train\",X_train.shape)\n",
    "print(\"Shape of y_train\",y_train.shape)\n",
    "\n",
    "# ko stage w/o penalty shootouts\n",
    "data_train_ko, data_test_ko = train_test_split(data_ko_nopen.copy(),test_size=0.2)\n",
    "# scale\n",
    "scale(data_train_ko, data_test_ko)\n",
    "\n",
    "X_train_ko = data_train_ko.drop(target,axis=1)[col2]\n",
    "y_train_ko = data_train_ko[target]\n",
    "X_test_ko = data_test_ko.drop(target,axis=1)[col2]\n",
    "y_test_ko = data_test_ko[target]\n",
    "print(\"Shape of X_test_ko\",X_test_ko.shape)\n",
    "print(\"Shape of y_test_ko\",y_test_ko.shape)\n",
    "print(\"Shape of X_train_ko\",X_train_ko.shape)\n",
    "print(\"Shape of y_train_ko\",y_train_ko.shape)\n",
    "\n",
    "# group stage\n",
    "data_train_gr, data_test_gr = train_test_split(data_group.copy(),test_size=0.2)\n",
    "scale(data_train_gr, data_test_gr)\n",
    "\n",
    "X_train_gr = data_train_gr.drop(target,axis=1)[col2]\n",
    "y_train_gr = data_train_gr[target]\n",
    "X_test_gr = data_test_gr.drop(target,axis=1)[col2]\n",
    "y_test_gr = data_test_gr[target]\n",
    "print(\"Shape of X_test_gr\",X_test_gr.shape)\n",
    "print(\"Shape of y_test_gr\",y_test_gr.shape)\n",
    "print(\"Shape of X_train_gr\",X_train_gr.shape)\n",
    "print(\"Shape of y_train_gr\",y_train_gr.shape)\n",
    "\n",
    "# penalty shootout\n",
    "data_train_pen, data_test_pen = train_test_split(data_pen.copy(),test_size=0.2)\n",
    "scale(data_train_pen, data_test_pen)\n",
    "\n",
    "X_train_pen = data_train_pen.drop(target,axis=1)[col2]\n",
    "y_train_pen = data_train_pen[target]\n",
    "X_test_pen = data_test_pen.drop(target,axis=1)[col2]\n",
    "y_test_pen = data_test_pen[target]\n",
    "print(\"Shape of X_test_pen\",X_test_pen.shape)\n",
    "print(\"Shape of y_test_pen\",y_test_pen.shape)\n",
    "print(\"Shape of X_train_pen\",X_train_pen.shape)\n",
    "print(\"Shape of y_train_pen\",y_train_pen.shape)\n"
   ]
  },
  {
   "cell_type": "markdown",
   "metadata": {},
   "source": [
    "We will use an ensemble of different classifiers."
   ]
  },
  {
   "cell_type": "code",
   "execution_count": null,
   "metadata": {},
   "outputs": [],
   "source": [
    "clf_gbt = GradientBoostingClassifier()\n",
    "clf_lr = LogisticRegression()\n",
    "clf_rft = RandomForestClassifier()\n",
    "clf_nn = NNClassifier(X_train.values.shape[1])\n",
    "clf_vot = VotingClassifier(estimators=[\n",
    "    ('lr', clf_lr), \n",
    "    ('rft', clf_rft), \n",
    "    ('gbt', clf_gbt),\n",
    "    ('nn', clf_nn)\n",
    "], voting='soft')"
   ]
  },
  {
   "cell_type": "markdown",
   "metadata": {},
   "source": [
    "### Full data set\n",
    "\n",
    "The accuracy is around 50%."
   ]
  },
  {
   "cell_type": "code",
   "execution_count": null,
   "metadata": {},
   "outputs": [],
   "source": [
    "y_tr = np.vectorize(util.encode_tendency)(y_train.values[:,0],y_train.values[:,1],0,1,2)"
   ]
  },
  {
   "cell_type": "code",
   "execution_count": null,
   "metadata": {},
   "outputs": [],
   "source": [
    "param={\n",
    "    \"n_estimators\": [50],\n",
    "    \"learning_rate\": [0.03,0.1,0.3],\n",
    "    \"max_depth\": [1,2,4,8],\n",
    "    \"random_state\": [0],\n",
    "    \"min_samples_leaf\": [1,2,3]\n",
    "}    \n",
    "cv_gbt = GridSearchCV(estimator=clf_gbt,param_grid=param,cv=5,scoring='accuracy')\n",
    "cv_gbt.fit(X=X_train.values, y=y_tr)"
   ]
  },
  {
   "cell_type": "code",
   "execution_count": null,
   "metadata": {},
   "outputs": [],
   "source": [
    "cv_gbt.best_score_ , cv_gbt.best_params_"
   ]
  },
  {
   "cell_type": "code",
   "execution_count": null,
   "metadata": {},
   "outputs": [],
   "source": [
    "#cv_gbt.best_estimator_.predict(X_test)\n",
    "#cv_gbt.cv_results_\n",
    "param={\n",
    "    \"C\": [0.1,0.3,1]\n",
    "}   \n",
    "cv_lr = GridSearchCV(estimator=clf_lr,param_grid=param,cv=5,scoring='accuracy',refit=True)\n",
    "cv_lr.fit(X=X_train.values, y=y_tr)\n",
    "cv_lr.best_score_ , cv_lr.best_params_\n",
    "# C really akes no difference..."
   ]
  },
  {
   "cell_type": "code",
   "execution_count": null,
   "metadata": {},
   "outputs": [],
   "source": [
    "param={\n",
    "    \"dropout\": [0.2],\n",
    "    \"iter\": [400],\n",
    "    \"lr\": [0.01,0.05,0.1],\n",
    "    \"alpha\": [0.99, 0.8],\n",
    "    \"momentum\": [0,0.5]\n",
    "}\n",
    "cv_nn = GridSearchCV(estimator=clf_nn,param_grid=param,cv=5,scoring='accuracy')\n",
    "cv_nn.fit(X=X_train.values,y=y_tr)"
   ]
  },
  {
   "cell_type": "code",
   "execution_count": null,
   "metadata": {},
   "outputs": [],
   "source": [
    "cv_nn.best_score_ , cv_nn.best_params_"
   ]
  },
  {
   "cell_type": "code",
   "execution_count": null,
   "metadata": {},
   "outputs": [],
   "source": [
    "param_grid = {\n",
    "    \"nn__dropout\": [0.2],\n",
    "    \"nn__iter\": [400],\n",
    "    \"nn__lr\": [0.01],\n",
    "    \"nn__alpha\": [0.8],\n",
    "    \"nn__momentum\": [0.5],\n",
    "    \"lr__C\": [0.1,1],\n",
    "    \"gbt__n_estimators\": [50],\n",
    "    \"gbt__learning_rate\": [0.1,0.3],\n",
    "    \"gbt__max_depth\": [2,4],\n",
    "    \"gbt__min_samples_leaf\": [1,2,4],\n",
    "    \"gbt__random_state\": [0],\n",
    "    \"rft__max_depth\": [2,4,8,10]\n",
    "}\n",
    "cv_clf_vot = GridSearchCV(clf_vot,param_grid=param_grid, cv=5,refit=True)\n",
    "cv_clf_vot.fit(X_train.values,y=y_tr)\n",
    "cv_clf_vot.best_params_, cv_clf_vot.best_score_"
   ]
  },
  {
   "cell_type": "markdown",
   "metadata": {},
   "source": [
    "### KO stage without penalty shootouts\n",
    "The accuracy is around 70%."
   ]
  },
  {
   "cell_type": "code",
   "execution_count": null,
   "metadata": {},
   "outputs": [],
   "source": [
    "y_tr_ko = np.vectorize(util.encode_tendency)(y_train_ko.values[:,0],y_train_ko.values[:,1],0,1,2)"
   ]
  },
  {
   "cell_type": "code",
   "execution_count": null,
   "metadata": {},
   "outputs": [],
   "source": [
    "param={\n",
    "    \"n_estimators\": [50],\n",
    "    \"learning_rate\": [0.03,0.1,0.3],\n",
    "    \"max_depth\": [1,2,4],\n",
    "    \"random_state\": [0]\n",
    "}\n",
    "cv_gbt = GridSearchCV(clf_gbt,param_grid=param, cv=5,refit=True)\n",
    "cv_gbt.fit(X=X_train_ko, y=y_tr_ko)\n",
    "cv_gbt.best_score_ , cv_gbt.best_params_"
   ]
  },
  {
   "cell_type": "code",
   "execution_count": null,
   "metadata": {},
   "outputs": [],
   "source": [
    "#cv_gbt.best_estimator_.predict(X_test_ko)"
   ]
  },
  {
   "cell_type": "code",
   "execution_count": null,
   "metadata": {},
   "outputs": [],
   "source": [
    "param={\n",
    "    \"C\": [0.1,0.3,1]\n",
    "}   \n",
    "cv_lr = GridSearchCV(estimator=clf_lr,param_grid=param,cv=5,scoring='accuracy',refit=True)\n",
    "cv_lr.fit(X=X_train_ko, y=y_tr_ko)\n",
    "cv_lr.best_score_ , cv_lr.best_params_"
   ]
  },
  {
   "cell_type": "code",
   "execution_count": null,
   "metadata": {},
   "outputs": [],
   "source": [
    "#cv_lr.best_estimator_.predict_proba(X_test_ko)"
   ]
  },
  {
   "cell_type": "code",
   "execution_count": null,
   "metadata": {},
   "outputs": [],
   "source": [
    "#np.sum(y_tr_nopen==2)/y_tr_nopen.shape[0]\n",
    "param_grid={\n",
    "    \"max_depth\": [2,4,8,16]\n",
    "}\n",
    "\n",
    "cv_clf_rft = GridSearchCV(clf_rft,param_grid=param_grid, cv=5,refit=True)\n",
    "cv_clf_rft.fit(X_train_ko.values,y=y_tr_ko)\n",
    "cv_clf_rft.best_score_,cv_clf_rft.best_params_"
   ]
  },
  {
   "cell_type": "code",
   "execution_count": null,
   "metadata": {},
   "outputs": [],
   "source": [
    "#cv_clf_rft.best_estimator_.predict_proba(X_test_ko)"
   ]
  },
  {
   "cell_type": "code",
   "execution_count": null,
   "metadata": {},
   "outputs": [],
   "source": [
    "param_grid={\n",
    "    \"dropout\": [0.2],\n",
    "    \"iter\": [300],\n",
    "    \"lr\": [0.01,0.05,0.1],\n",
    "    \"alpha\": [0.99, 0.8],\n",
    "    \"momentum\": [0,0.5]\n",
    "}\n",
    "cv_nn = GridSearchCV(estimator=clf_nn,param_grid=param_grid,cv=5,scoring='accuracy')\n",
    "cv_nn.fit(X=X_train_ko.values,y=y_tr_ko)\n",
    "cv_nn.best_score_,cv_nn.best_params_"
   ]
  },
  {
   "cell_type": "code",
   "execution_count": null,
   "metadata": {},
   "outputs": [],
   "source": [
    "#cv_nn.predict_proba(X_test_ko.values)"
   ]
  },
  {
   "cell_type": "code",
   "execution_count": null,
   "metadata": {},
   "outputs": [],
   "source": [
    "param_grid = {\n",
    "    \"nn__classes\": [2], \n",
    "    #otherwise GridSearchCV will try to broadcast it to (19,2)\n",
    "    \"nn__dropout\": [0.2],\n",
    "    \"nn__iter\": [400],\n",
    "    \"nn__lr\": [0.01],\n",
    "    \"nn__alpha\": [0.8],\n",
    "    \"nn__momentum\": [0.5],\n",
    "    \"lr__C\": [0.1,1],\n",
    "    \"gbt__n_estimators\": [50],\n",
    "    \"gbt__learning_rate\": [0.1,0.3],\n",
    "    \"gbt__max_depth\": [2,4],\n",
    "    \"gbt__min_samples_leaf\": [1,2,4],\n",
    "    \"gbt__random_state\": [0],\n",
    "    \"rft__max_depth\": [2,4,8,10]\n",
    "}\n",
    "cv_clf_vot = GridSearchCV(clf_vot,param_grid=param_grid, cv=5,refit=True)\n",
    "cv_clf_vot.fit(X_train_ko.values,y=y_tr_ko)\n",
    "cv_clf_vot.best_params_, cv_clf_vot.best_score_"
   ]
  },
  {
   "cell_type": "code",
   "execution_count": null,
   "metadata": {},
   "outputs": [],
   "source": [
    "clf_nn.get_params().keys()"
   ]
  },
  {
   "cell_type": "markdown",
   "metadata": {},
   "source": [
    "### Group Stage\n",
    "The accuracy is around 50%."
   ]
  },
  {
   "cell_type": "code",
   "execution_count": null,
   "metadata": {},
   "outputs": [],
   "source": [
    "y_tr_gr=np.vectorize(util.encode_tendency)(y_train_gr.values[:,0],y_train_gr.values[:,1],0,1,2) "
   ]
  },
  {
   "cell_type": "code",
   "execution_count": null,
   "metadata": {},
   "outputs": [],
   "source": [
    "param_grid={\n",
    "    \"n_estimators\": [100,150],\n",
    "    \"learning_rate\": [0.03,0.1,0.3],\n",
    "    \"max_depth\": [1,2,4],\n",
    "    \"random_state\": [0]\n",
    "}\n",
    "cv_gbt = GridSearchCV(clf_gbt,param_grid=param_grid, cv=5,refit=True)\n",
    "cv_gbt.fit(X=X_train_gr, y=y_tr_gr)\n",
    "cv_gbt.best_estimator_, cv_gbt.best_score_ , cv_gbt.best_params_"
   ]
  },
  {
   "cell_type": "markdown",
   "metadata": {},
   "source": []
  },
  {
   "cell_type": "code",
   "execution_count": null,
   "metadata": {},
   "outputs": [],
   "source": [
    "param_grid={\n",
    "    \"C\": [0.1,10]\n",
    "}\n",
    "cv_clf_lr = GridSearchCV(clf_lr,param_grid=param_grid, cv=5)\n",
    "cv_clf_lr.fit(X_train_gr.values,y=y_tr_gr)\n",
    "cv_clf_lr.best_score_ , cv_clf_lr.best_params_"
   ]
  },
  {
   "cell_type": "code",
   "execution_count": null,
   "metadata": {},
   "outputs": [],
   "source": [
    "#cv_lr.best_estimator_.predict(X_test_gr)"
   ]
  },
  {
   "cell_type": "code",
   "execution_count": null,
   "metadata": {},
   "outputs": [],
   "source": [
    "param={\n",
    "    \"dropout\": [0.2],\n",
    "    \"iter\": [300],\n",
    "    \"lr\": [0.01,0.05,0.1],\n",
    "    \"alpha\": [0.99, 0.8],\n",
    "    \"momentum\": [0,0.5]\n",
    "}\n",
    "cv_nn = GridSearchCV(estimator=clf_nn,param_grid=param,cv=5,scoring='accuracy')\n",
    "cv_nn.fit(X=X_train_gr.values,y=y_tr_gr)\n",
    "cv_nn.best_score_ , cv_nn.best_params_"
   ]
  },
  {
   "cell_type": "code",
   "execution_count": null,
   "metadata": {},
   "outputs": [],
   "source": [
    "param_grid = {\n",
    "    \"nn__dropout\": [0.2],\n",
    "    \"nn__iter\": [300],\n",
    "    \"nn__lr\": [0.01],\n",
    "    \"nn__alpha\": [0.99],\n",
    "    \"nn__momentum\": [0.5],\n",
    "    \"lr__C\": [0.1,1],\n",
    "    \"gbt__n_estimators\": [50,100],\n",
    "    \"gbt__learning_rate\": [0.1,0.3],\n",
    "    \"gbt__max_depth\": [2,4],\n",
    "    \"gbt__min_samples_leaf\": [1,2,4],\n",
    "    \"gbt__random_state\": [0],\n",
    "    \"rft__max_depth\": [2,4,8,10]\n",
    "}\n",
    "cv_clf_vot = GridSearchCV(clf_vot,param_grid=param_grid, cv=5,refit=True)\n",
    "cv_clf_vot.fit(X_train_gr.values,y=y_tr_gr)\n",
    "cv_clf_vot.best_params_,cv_clf_vot.best_score_"
   ]
  },
  {
   "cell_type": "markdown",
   "metadata": {
    "collapsed": true
   },
   "source": [
    "### Penalty shootouts\n",
    "The accuracy is around 60%."
   ]
  },
  {
   "cell_type": "code",
   "execution_count": null,
   "metadata": {},
   "outputs": [],
   "source": [
    "y_tr_pen=np.vectorize(util.encode_tendency)(y_train_pen.values[:,0],y_train_pen.values[:,1],0,1,2) "
   ]
  },
  {
   "cell_type": "code",
   "execution_count": null,
   "metadata": {},
   "outputs": [],
   "source": [
    "param_grid={\n",
    "    \"n_estimators\": [100,150],\n",
    "    \"learning_rate\": [0.03,0.1,0.3],\n",
    "    \"max_depth\": [1,2,4],\n",
    "    \"random_state\": [0]\n",
    "}\n",
    "cv_gbt = GridSearchCV(clf_gbt,param_grid=param_grid, cv=5,refit=True)\n",
    "cv_gbt.fit(X=X_train_pen, y=y_tr_pen)\n",
    "cv_gbt.best_estimator_, cv_gbt.best_score_ , cv_gbt.best_params_"
   ]
  },
  {
   "cell_type": "code",
   "execution_count": null,
   "metadata": {},
   "outputs": [],
   "source": [
    "param_grid={\n",
    "    \"C\": [0.1,10]\n",
    "}\n",
    "cv_clf_lr = GridSearchCV(clf_lr,param_grid=param_grid, cv=5)\n",
    "cv_clf_lr.fit(X_train_pen.values,y=y_tr_pen)\n",
    "cv_clf_lr.best_score_ , cv_clf_lr.best_params_"
   ]
  },
  {
   "cell_type": "code",
   "execution_count": null,
   "metadata": {},
   "outputs": [],
   "source": [
    "param={\n",
    "    \"dropout\": [0.2],\n",
    "    \"iter\": [300],\n",
    "    \"lr\": [0.01,0.05,0.1],\n",
    "    \"alpha\": [0.99, 0.8],\n",
    "    \"momentum\": [0,0.5]\n",
    "}\n",
    "cv_nn = GridSearchCV(estimator=clf_nn,param_grid=param,cv=5,scoring='accuracy')\n",
    "cv_nn.fit(X=X_train_pen.values,y=y_tr_pen)\n",
    "cv_nn.best_score_ , cv_nn.best_params_"
   ]
  },
  {
   "cell_type": "code",
   "execution_count": null,
   "metadata": {},
   "outputs": [],
   "source": [
    "param_grid = {\n",
    "    \"nn__classes\": [2],\n",
    "    \"nn__dropout\": [0.2],\n",
    "    \"nn__iter\": [300],\n",
    "    \"nn__lr\": [0.01],\n",
    "    \"nn__alpha\": [0.99],\n",
    "    \"nn__momentum\": [0.5],\n",
    "    \"lr__C\": [0.1,1],\n",
    "    \"gbt__n_estimators\": [50],\n",
    "    \"gbt__learning_rate\": [0.1,0.3],\n",
    "    \"gbt__max_depth\": [2,4],\n",
    "    \"gbt__min_samples_leaf\": [1,2,4],\n",
    "    \"gbt__random_state\": [0],\n",
    "    \"rft__max_depth\": [2,4,8,10]\n",
    "}\n",
    "cv_clf_vot = GridSearchCV(clf_vot,param_grid=param_grid, cv=5,refit=True)\n",
    "cv_clf_vot.fit(X_train_pen.values,y=y_tr_pen)\n",
    "cv_clf_vot.best_params_,cv_clf_vot.best_score_"
   ]
  },
  {
   "cell_type": "markdown",
   "metadata": {},
   "source": [
    "## Summary\n",
    "We were able to predict the correct tendency in 70% of the games during the knockout stages.\n",
    "For the group stage, only an accuracy of between 50-60% can be achieved.\n",
    "Penalty shootout can also be classified, but it will be difficult to find a model that gets the number of goals correct both in a penalty shootout and a game decided in normal time. We will exclude penalty shootout results from our set for count prediction."
   ]
  },
  {
   "cell_type": "code",
   "execution_count": null,
   "metadata": {},
   "outputs": [],
   "source": []
  }
 ],
 "metadata": {
  "kernelspec": {
   "display_name": "MachineLearning",
   "language": "python",
   "name": "ml"
  },
  "language_info": {
   "codemirror_mode": {
    "name": "ipython",
    "version": 3
   },
   "file_extension": ".py",
   "mimetype": "text/x-python",
   "name": "python",
   "nbconvert_exporter": "python",
   "pygments_lexer": "ipython3",
   "version": "3.6.5"
  }
 },
 "nbformat": 4,
 "nbformat_minor": 2
}
